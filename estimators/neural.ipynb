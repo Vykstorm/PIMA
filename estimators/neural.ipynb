{
 "cells": [
  {
   "cell_type": "markdown",
   "metadata": {},
   "source": [
    "This notebook shows a very simple neuronal network to solve PIMA classification problem"
   ]
  },
  {
   "cell_type": "markdown",
   "metadata": {},
   "source": [
    "## Import statements"
   ]
  },
  {
   "cell_type": "code",
   "execution_count": 109,
   "metadata": {},
   "outputs": [],
   "source": [
    "import numpy as np\n",
    "import pandas as pd\n",
    "import matplotlib.pyplot as plt\n",
    "import json\n",
    "\n",
    "from helpers import *\n",
    "\n",
    "from keras.models import Sequential\n",
    "from keras.layers import Dense\n",
    "from keras.optimizers import Adam, SGD\n",
    "from keras.wrappers.scikit_learn import KerasClassifier\n",
    "from keras.utils.np_utils import to_categorical\n",
    "\n",
    "from sklearn.model_selection import train_test_split, cross_val_score, cross_validate\n",
    "from sklearn.model_selection import RepeatedStratifiedKFold, StratifiedKFold, KFold\n",
    "from sklearn.metrics import confusion_matrix, accuracy_score, classification_report, precision_score, recall_score\n",
    "\n",
    "from keras.utils.vis_utils import plot_model\n",
    "from IPython.display import SVG\n",
    "from keras.utils.vis_utils import model_to_dot\n",
    "\n",
    "\n",
    "from itertools import count\n",
    "\n",
    "%matplotlib inline\n",
    "\n",
    "# Supress warnings\n",
    "import warnings\n",
    "warnings.filterwarnings('ignore')"
   ]
  },
  {
   "cell_type": "markdown",
   "metadata": {},
   "source": [
    "## Import dataset"
   ]
  },
  {
   "cell_type": "code",
   "execution_count": 64,
   "metadata": {},
   "outputs": [],
   "source": [
    "# Read the dataset\n",
    "data = load_dataset()\n",
    "\n",
    "# Preprocess the dataset\n",
    "preprocess(data)\n",
    "\n",
    "# Split dataset in two arrays: X for features and y for labels\n",
    "X = get_features(data)\n",
    "y = get_outcome(data)\n",
    "y_cat = get_categorical_outcome(data)"
   ]
  },
  {
   "cell_type": "markdown",
   "metadata": {},
   "source": [
    "## Build our neural network"
   ]
  },
  {
   "cell_type": "markdown",
   "metadata": {},
   "source": [
    "### Parameters configuration"
   ]
  },
  {
   "cell_type": "code",
   "execution_count": 41,
   "metadata": {},
   "outputs": [],
   "source": [
    "\n",
    "# This variable contains information about the topology of our neural network:\n",
    "# Number of cells on each layer, number of layers and activation function\n",
    "layers = [\n",
    "    # Input layer\n",
    "    {\n",
    "        'units': 8,\n",
    "        'activation': 'tanh',\n",
    "        'bias': True\n",
    "    },\n",
    "    ## Hidden layers\n",
    "    #\n",
    "    {\n",
    "        'units': 16,\n",
    "        'activation': 'tanh',\n",
    "        'bias': True\n",
    "    },\n",
    "    #\n",
    "    \n",
    "    # Output layer\n",
    "    {\n",
    "        'units': 2,\n",
    "        'activation': 'softmax',\n",
    "        'bias': True\n",
    "    }\n",
    "]\n",
    "\n",
    "# Loss function\n",
    "loss = 'categorical_crossentropy'\n",
    "\n",
    "# Optimizer to be used to minimize cost\n",
    "#optimizer = Adam(lr=0.032)\n",
    "#optimizer = SGD(lr=0.01)\n",
    "optimizer = SGD(lr=0.02)\n"
   ]
  },
  {
   "cell_type": "markdown",
   "metadata": {},
   "source": [
    "### Create the model"
   ]
  },
  {
   "cell_type": "code",
   "execution_count": 74,
   "metadata": {},
   "outputs": [],
   "source": [
    "# This is a helper class to create our neural network with the parameters defined above\n",
    "\n",
    "class NeuralNetwork(Sequential):\n",
    "    def __init__(self):\n",
    "        super().__init__(name='PIMA classifier')\n",
    "        \n",
    "        first_layer = layers[1]\n",
    "        self.add(Dense(units=first_layer['units'], activation=first_layer['activation'], use_bias=first_layer['bias'],\n",
    "                       input_shape=(len(X.columns),), name='Input_Layer'))\n",
    "\n",
    "        for index, layer in zip(count(1), layers[1:]):\n",
    "            self.add(Dense(units=layer['units'], activation=layer['activation'], use_bias=layer['bias'],\n",
    "                          name='Hidden_Layer{}'.format(index) if index < len(layers) - 1 else 'Output_Layer'))\n",
    "    \n",
    "    def compile(self):\n",
    "        return super().compile(optimizer=optimizer, loss=loss, metrics=['accuracy'])\n",
    "        \n",
    "    def predict(self, X, **kwargs):\n",
    "        return np.reshape(np.argmax(super().predict(X), axis=1), (X.shape[0],1))\n",
    "    \n",
    "    @classmethod\n",
    "    def wrapper(cls, *args, **kwargs):\n",
    "        def build():\n",
    "            model = cls()\n",
    "            model.compile()\n",
    "            return model\n",
    "        return KerasClassifier(build_fn=build, **kwargs)\n",
    "    \n",
    "    def plot(self):\n",
    "        return SVG(model_to_dot(model, show_shapes=True, show_layer_names=True).create(prog='dot', format='svg'))"
   ]
  },
  {
   "cell_type": "markdown",
   "metadata": {},
   "source": [
    "### Our model summary"
   ]
  },
  {
   "cell_type": "code",
   "execution_count": 43,
   "metadata": {},
   "outputs": [
    {
     "name": "stdout",
     "output_type": "stream",
     "text": [
      "_________________________________________________________________\n",
      "Layer (type)                 Output Shape              Param #   \n",
      "=================================================================\n",
      "Input_Layer (Dense)          (None, 16)                144       \n",
      "_________________________________________________________________\n",
      "Hidden_Layer1 (Dense)        (None, 16)                272       \n",
      "_________________________________________________________________\n",
      "Output_Layer (Dense)         (None, 2)                 34        \n",
      "=================================================================\n",
      "Total params: 450\n",
      "Trainable params: 450\n",
      "Non-trainable params: 0\n",
      "_________________________________________________________________\n"
     ]
    }
   ],
   "source": [
    "model = NeuralNetwork()\n",
    "model.summary()"
   ]
  },
  {
   "cell_type": "code",
   "execution_count": 44,
   "metadata": {},
   "outputs": [
    {
     "data": {
      "image/svg+xml": [
       "<svg height=\"294pt\" viewBox=\"0.00 0.00 282.00 294.00\" width=\"282pt\" xmlns=\"http://www.w3.org/2000/svg\" xmlns:xlink=\"http://www.w3.org/1999/xlink\">\n",
       "<g class=\"graph\" id=\"graph0\" transform=\"scale(1 1) rotate(0) translate(4 290)\">\n",
       "<title>G</title>\n",
       "<polygon fill=\"#ffffff\" points=\"-4,4 -4,-290 278,-290 278,4 -4,4\" stroke=\"transparent\"/>\n",
       "<!-- 140127494622288 -->\n",
       "<g class=\"node\" id=\"node1\">\n",
       "<title>140127494622288</title>\n",
       "<polygon fill=\"none\" points=\"9,-166.5 9,-212.5 265,-212.5 265,-166.5 9,-166.5\" stroke=\"#000000\"/>\n",
       "<text fill=\"#000000\" font-family=\"Times,serif\" font-size=\"14.00\" text-anchor=\"middle\" x=\"71.5\" y=\"-185.8\">Input_Layer: Dense</text>\n",
       "<polyline fill=\"none\" points=\"134,-166.5 134,-212.5 \" stroke=\"#000000\"/>\n",
       "<text fill=\"#000000\" font-family=\"Times,serif\" font-size=\"14.00\" text-anchor=\"middle\" x=\"161.5\" y=\"-197.3\">input:</text>\n",
       "<polyline fill=\"none\" points=\"134,-189.5 189,-189.5 \" stroke=\"#000000\"/>\n",
       "<text fill=\"#000000\" font-family=\"Times,serif\" font-size=\"14.00\" text-anchor=\"middle\" x=\"161.5\" y=\"-174.3\">output:</text>\n",
       "<polyline fill=\"none\" points=\"189,-166.5 189,-212.5 \" stroke=\"#000000\"/>\n",
       "<text fill=\"#000000\" font-family=\"Times,serif\" font-size=\"14.00\" text-anchor=\"middle\" x=\"227\" y=\"-197.3\">(None, 8)</text>\n",
       "<polyline fill=\"none\" points=\"189,-189.5 265,-189.5 \" stroke=\"#000000\"/>\n",
       "<text fill=\"#000000\" font-family=\"Times,serif\" font-size=\"14.00\" text-anchor=\"middle\" x=\"227\" y=\"-174.3\">(None, 16)</text>\n",
       "</g>\n",
       "<!-- 140127494665608 -->\n",
       "<g class=\"node\" id=\"node2\">\n",
       "<title>140127494665608</title>\n",
       "<polygon fill=\"none\" points=\"0,-83.5 0,-129.5 274,-129.5 274,-83.5 0,-83.5\" stroke=\"#000000\"/>\n",
       "<text fill=\"#000000\" font-family=\"Times,serif\" font-size=\"14.00\" text-anchor=\"middle\" x=\"71.5\" y=\"-102.8\">Hidden_Layer1: Dense</text>\n",
       "<polyline fill=\"none\" points=\"143,-83.5 143,-129.5 \" stroke=\"#000000\"/>\n",
       "<text fill=\"#000000\" font-family=\"Times,serif\" font-size=\"14.00\" text-anchor=\"middle\" x=\"170.5\" y=\"-114.3\">input:</text>\n",
       "<polyline fill=\"none\" points=\"143,-106.5 198,-106.5 \" stroke=\"#000000\"/>\n",
       "<text fill=\"#000000\" font-family=\"Times,serif\" font-size=\"14.00\" text-anchor=\"middle\" x=\"170.5\" y=\"-91.3\">output:</text>\n",
       "<polyline fill=\"none\" points=\"198,-83.5 198,-129.5 \" stroke=\"#000000\"/>\n",
       "<text fill=\"#000000\" font-family=\"Times,serif\" font-size=\"14.00\" text-anchor=\"middle\" x=\"236\" y=\"-114.3\">(None, 16)</text>\n",
       "<polyline fill=\"none\" points=\"198,-106.5 274,-106.5 \" stroke=\"#000000\"/>\n",
       "<text fill=\"#000000\" font-family=\"Times,serif\" font-size=\"14.00\" text-anchor=\"middle\" x=\"236\" y=\"-91.3\">(None, 16)</text>\n",
       "</g>\n",
       "<!-- 140127494622288&#45;&gt;140127494665608 -->\n",
       "<g class=\"edge\" id=\"edge2\">\n",
       "<title>140127494622288-&gt;140127494665608</title>\n",
       "<path d=\"M137,-166.3799C137,-158.1745 137,-148.7679 137,-139.8786\" fill=\"none\" stroke=\"#000000\"/>\n",
       "<polygon fill=\"#000000\" points=\"140.5001,-139.784 137,-129.784 133.5001,-139.784 140.5001,-139.784\" stroke=\"#000000\"/>\n",
       "</g>\n",
       "<!-- 140127494712288 -->\n",
       "<g class=\"node\" id=\"node3\">\n",
       "<title>140127494712288</title>\n",
       "<polygon fill=\"none\" points=\"4.5,-.5 4.5,-46.5 269.5,-46.5 269.5,-.5 4.5,-.5\" stroke=\"#000000\"/>\n",
       "<text fill=\"#000000\" font-family=\"Times,serif\" font-size=\"14.00\" text-anchor=\"middle\" x=\"71.5\" y=\"-19.8\">Output_Layer: Dense</text>\n",
       "<polyline fill=\"none\" points=\"138.5,-.5 138.5,-46.5 \" stroke=\"#000000\"/>\n",
       "<text fill=\"#000000\" font-family=\"Times,serif\" font-size=\"14.00\" text-anchor=\"middle\" x=\"166\" y=\"-31.3\">input:</text>\n",
       "<polyline fill=\"none\" points=\"138.5,-23.5 193.5,-23.5 \" stroke=\"#000000\"/>\n",
       "<text fill=\"#000000\" font-family=\"Times,serif\" font-size=\"14.00\" text-anchor=\"middle\" x=\"166\" y=\"-8.3\">output:</text>\n",
       "<polyline fill=\"none\" points=\"193.5,-.5 193.5,-46.5 \" stroke=\"#000000\"/>\n",
       "<text fill=\"#000000\" font-family=\"Times,serif\" font-size=\"14.00\" text-anchor=\"middle\" x=\"231.5\" y=\"-31.3\">(None, 16)</text>\n",
       "<polyline fill=\"none\" points=\"193.5,-23.5 269.5,-23.5 \" stroke=\"#000000\"/>\n",
       "<text fill=\"#000000\" font-family=\"Times,serif\" font-size=\"14.00\" text-anchor=\"middle\" x=\"231.5\" y=\"-8.3\">(None, 2)</text>\n",
       "</g>\n",
       "<!-- 140127494665608&#45;&gt;140127494712288 -->\n",
       "<g class=\"edge\" id=\"edge3\">\n",
       "<title>140127494665608-&gt;140127494712288</title>\n",
       "<path d=\"M137,-83.3799C137,-75.1745 137,-65.7679 137,-56.8786\" fill=\"none\" stroke=\"#000000\"/>\n",
       "<polygon fill=\"#000000\" points=\"140.5001,-56.784 137,-46.784 133.5001,-56.784 140.5001,-56.784\" stroke=\"#000000\"/>\n",
       "</g>\n",
       "<!-- 140127494666560 -->\n",
       "<g class=\"node\" id=\"node4\">\n",
       "<title>140127494666560</title>\n",
       "<polygon fill=\"none\" points=\"78,-249.5 78,-285.5 196,-285.5 196,-249.5 78,-249.5\" stroke=\"#000000\"/>\n",
       "<text fill=\"#000000\" font-family=\"Times,serif\" font-size=\"14.00\" text-anchor=\"middle\" x=\"137\" y=\"-263.8\">140127494666560</text>\n",
       "</g>\n",
       "<!-- 140127494666560&#45;&gt;140127494622288 -->\n",
       "<g class=\"edge\" id=\"edge1\">\n",
       "<title>140127494666560-&gt;140127494622288</title>\n",
       "<path d=\"M137,-249.4092C137,-241.4308 137,-231.795 137,-222.606\" fill=\"none\" stroke=\"#000000\"/>\n",
       "<polygon fill=\"#000000\" points=\"140.5001,-222.5333 137,-212.5333 133.5001,-222.5334 140.5001,-222.5333\" stroke=\"#000000\"/>\n",
       "</g>\n",
       "</g>\n",
       "</svg>"
      ],
      "text/plain": [
       "<IPython.core.display.SVG object>"
      ]
     },
     "execution_count": 44,
     "metadata": {},
     "output_type": "execute_result"
    }
   ],
   "source": [
    "model.plot()"
   ]
  },
  {
   "cell_type": "markdown",
   "metadata": {},
   "source": [
    "### Test the model without cross-validation"
   ]
  },
  {
   "cell_type": "code",
   "execution_count": 75,
   "metadata": {},
   "outputs": [
    {
     "name": "stdout",
     "output_type": "stream",
     "text": [
      "Training phase completed\n"
     ]
    }
   ],
   "source": [
    "X_train, X_test, y_train, y_test = train_test_split(X, y_cat, test_size=0.2, random_state=22, stratify=y)\n",
    "model = NeuralNetwork()\n",
    "model.compile()\n",
    "history = model.fit(X_train, y_train, verbose=False, epochs=50, validation_split=0.1)\n",
    "y_train_pred = model.predict(X_train)\n",
    "y_test_pred = model.predict(X_test)\n",
    "print('Training phase completed')"
   ]
  },
  {
   "cell_type": "markdown",
   "metadata": {},
   "source": [
    "### Print results"
   ]
  },
  {
   "cell_type": "code",
   "execution_count": 76,
   "metadata": {},
   "outputs": [
    {
     "data": {
      "image/png": "[encoded data removed]",
      "text/plain": [
       "<Figure size 432x288 with 1 Axes>"
      ]
     },
     "metadata": {
      "needs_background": "light"
     },
     "output_type": "display_data"
    }
   ],
   "source": [
    "plt.plot(history.history['acc'])\n",
    "plt.plot(history.history['val_acc'])\n",
    "plt.xlabel('Epoch')\n",
    "plt.ylabel('Accuracy')\n",
    "plt.xticks(range(0, 50, 4));\n",
    "plt.title('Metrics ')\n",
    "plt.legend(['Accuracy', 'Validation Accuracy']);"
   ]
  },
  {
   "cell_type": "code",
   "execution_count": 169,
   "metadata": {},
   "outputs": [
    {
     "name": "stdout",
     "output_type": "stream",
     "text": [
      "Accuracy score on train set: 0.771987\n",
      "\n",
      "              precision    recall  f1-score   support\n",
      "\n",
      "         0.0       0.80      0.86      0.83       400\n",
      "         1.0       0.70      0.60      0.65       214\n",
      "\n",
      "   micro avg       0.77      0.77      0.77       614\n",
      "   macro avg       0.75      0.73      0.74       614\n",
      "weighted avg       0.77      0.77      0.77       614\n",
      "\n"
     ]
    },
    {
     "data": {
      "text/html": [
       "<div>\n",
       "<style scoped>\n",
       "    .dataframe tbody tr th:only-of-type {\n",
       "        vertical-align: middle;\n",
       "    }\n",
       "\n",
       "    .dataframe tbody tr th {\n",
       "        vertical-align: top;\n",
       "    }\n",
       "\n",
       "    .dataframe thead th {\n",
       "        text-align: right;\n",
       "    }\n",
       "</style>\n",
       "<table border=\"1\" class=\"dataframe\">\n",
       "  <thead>\n",
       "    <tr style=\"text-align: right;\">\n",
       "      <th></th>\n",
       "      <th>Predict no diabetes</th>\n",
       "      <th>Predict diabetes</th>\n",
       "    </tr>\n",
       "  </thead>\n",
       "  <tbody>\n",
       "    <tr>\n",
       "      <th>Not have diabetes</th>\n",
       "      <td>346</td>\n",
       "      <td>54</td>\n",
       "    </tr>\n",
       "    <tr>\n",
       "      <th>Have diabetes</th>\n",
       "      <td>86</td>\n",
       "      <td>128</td>\n",
       "    </tr>\n",
       "  </tbody>\n",
       "</table>\n",
       "</div>"
      ],
      "text/plain": [
       "                   Predict no diabetes  Predict diabetes\n",
       "Not have diabetes                  346                54\n",
       "Have diabetes                       86               128"
      ]
     },
     "execution_count": 169,
     "metadata": {},
     "output_type": "execute_result"
    }
   ],
   "source": [
    "# Print accuracy score, classification report and confusion matrix on train\n",
    "print(\"Accuracy score on train set: {:2f}\\n\".format(accuracy_score(y_train[:,1], y_train_pred)))\n",
    "print(classification_report(y_train[:, 1], y_train_pred))\n",
    "\n",
    "pd.DataFrame(data=confusion_matrix(y_train[:, 1], y_train_pred), columns=['Predict no diabetes', 'Predict diabetes'],\n",
    "            index=['Not have diabetes', 'Have diabetes'])"
   ]
  },
  {
   "cell_type": "code",
   "execution_count": 170,
   "metadata": {},
   "outputs": [
    {
     "name": "stdout",
     "output_type": "stream",
     "text": [
      "Accuracy score on test set: 0.792208\n",
      "\n",
      "              precision    recall  f1-score   support\n",
      "\n",
      "         0.0       0.82      0.87      0.84       100\n",
      "         1.0       0.73      0.65      0.69        54\n",
      "\n",
      "   micro avg       0.79      0.79      0.79       154\n",
      "   macro avg       0.77      0.76      0.77       154\n",
      "weighted avg       0.79      0.79      0.79       154\n",
      "\n"
     ]
    },
    {
     "data": {
      "text/html": [
       "<div>\n",
       "<style scoped>\n",
       "    .dataframe tbody tr th:only-of-type {\n",
       "        vertical-align: middle;\n",
       "    }\n",
       "\n",
       "    .dataframe tbody tr th {\n",
       "        vertical-align: top;\n",
       "    }\n",
       "\n",
       "    .dataframe thead th {\n",
       "        text-align: right;\n",
       "    }\n",
       "</style>\n",
       "<table border=\"1\" class=\"dataframe\">\n",
       "  <thead>\n",
       "    <tr style=\"text-align: right;\">\n",
       "      <th></th>\n",
       "      <th>Predict no diabetes</th>\n",
       "      <th>Predict diabetes</th>\n",
       "    </tr>\n",
       "  </thead>\n",
       "  <tbody>\n",
       "    <tr>\n",
       "      <th>Not have diabetes</th>\n",
       "      <td>87</td>\n",
       "      <td>13</td>\n",
       "    </tr>\n",
       "    <tr>\n",
       "      <th>Have diabetes</th>\n",
       "      <td>19</td>\n",
       "      <td>35</td>\n",
       "    </tr>\n",
       "  </tbody>\n",
       "</table>\n",
       "</div>"
      ],
      "text/plain": [
       "                   Predict no diabetes  Predict diabetes\n",
       "Not have diabetes                   87                13\n",
       "Have diabetes                       19                35"
      ]
     },
     "execution_count": 170,
     "metadata": {},
     "output_type": "execute_result"
    }
   ],
   "source": [
    "# Print accuracy score, classification report and confusion matrix on test\n",
    "print(\"Accuracy score on test set: {:2f}\\n\".format(accuracy_score(y_test[:, 1], y_test_pred)))\n",
    "print(classification_report(y_test[:, 1], y_test_pred))\n",
    "\n",
    "pd.DataFrame(data=confusion_matrix(y_test[:, 1], y_test_pred), columns=['Predict no diabetes', 'Predict diabetes'],\n",
    "            index=['Not have diabetes', 'Have diabetes'])"
   ]
  },
  {
   "cell_type": "markdown",
   "metadata": {},
   "source": [
    "## Cross-validate the model"
   ]
  },
  {
   "cell_type": "code",
   "execution_count": 126,
   "metadata": {},
   "outputs": [],
   "source": [
    "model = NeuralNetwork.wrapper(epochs=20, verbose=False)\n",
    "\n",
    "#cv = StratifiedKFold(6, shuffle=True, random_state=13)\n",
    "#cv = KFold(5)\n",
    "#cross_val_score(model, X, y, scoring='accuracy', cv=cv)\n",
    "cv = RepeatedStratifiedKFold(4, 3, random_state=13)\n",
    "\n",
    "cv_results = cross_validate(model, X, y, scoring=['accuracy', 'precision', 'recall'], cv=cv, return_train_score=True);"
   ]
  },
  {
   "cell_type": "code",
   "execution_count": 152,
   "metadata": {},
   "outputs": [],
   "source": [
    "cv_metrics = pd.DataFrame(data=cv_results).drop(columns=['score_time', 'fit_time'])"
   ]
  },
  {
   "cell_type": "markdown",
   "metadata": {},
   "source": [
    "### Show the results"
   ]
  },
  {
   "cell_type": "code",
   "execution_count": 165,
   "metadata": {},
   "outputs": [
    {
     "data": {
      "image/png": "[encoded data removed]",
      "text/plain": [
       "<Figure size 504x504 with 1 Axes>"
      ]
     },
     "metadata": {
      "needs_background": "light"
     },
     "output_type": "display_data"
    }
   ],
   "source": [
    "plt.figure(figsize=(7,7))\n",
    "\n",
    "plt.plot(cv_metrics['test_accuracy'], color='Orange', linewidth=2)\n",
    "\n",
    "plt.plot(cv_metrics['test_recall'], color='Red', linewidth=2)\n",
    "plt.plot(cv_metrics['test_precision'], color='Blue', linewidth=2)\n",
    "\n",
    "plt.axhline(cv_metrics['test_accuracy'].mean(), color='Orange', linewidth=1, linestyle='-.')\n",
    "plt.axhline(cv_metrics['test_recall'].mean(), color='Red', linewidth=1, linestyle='-.')\n",
    "plt.axhline(cv_metrics['test_precision'].mean(), color='Blue', linewidth=1, linestyle='-.')\n",
    "\n",
    "plt.yticks(np.round(np.linspace(0.5, 0.8, 8), 2))\n",
    "plt.title('Cross validation scores on test')\n",
    "plt.xlabel('Step')\n",
    "plt.legend(['Accuracy', 'Recall', 'Precision']);"
   ]
  },
  {
   "cell_type": "code",
   "execution_count": 153,
   "metadata": {},
   "outputs": [
    {
     "data": {
      "text/html": [
       "<div>\n",
       "<style scoped>\n",
       "    .dataframe tbody tr th:only-of-type {\n",
       "        vertical-align: middle;\n",
       "    }\n",
       "\n",
       "    .dataframe tbody tr th {\n",
       "        vertical-align: top;\n",
       "    }\n",
       "\n",
       "    .dataframe thead th {\n",
       "        text-align: right;\n",
       "    }\n",
       "</style>\n",
       "<table border=\"1\" class=\"dataframe\">\n",
       "  <thead>\n",
       "    <tr style=\"text-align: right;\">\n",
       "      <th></th>\n",
       "      <th>Mean</th>\n",
       "      <th>Standard Deviation</th>\n",
       "    </tr>\n",
       "  </thead>\n",
       "  <tbody>\n",
       "    <tr>\n",
       "      <th>test_accuracy</th>\n",
       "      <td>0.768663</td>\n",
       "      <td>0.025073</td>\n",
       "    </tr>\n",
       "    <tr>\n",
       "      <th>train_accuracy</th>\n",
       "      <td>0.774595</td>\n",
       "      <td>0.011440</td>\n",
       "    </tr>\n",
       "    <tr>\n",
       "      <th>test_precision</th>\n",
       "      <td>0.702084</td>\n",
       "      <td>0.042079</td>\n",
       "    </tr>\n",
       "    <tr>\n",
       "      <th>train_precision</th>\n",
       "      <td>0.709186</td>\n",
       "      <td>0.019622</td>\n",
       "    </tr>\n",
       "    <tr>\n",
       "      <th>test_recall</th>\n",
       "      <td>0.585821</td>\n",
       "      <td>0.062720</td>\n",
       "    </tr>\n",
       "    <tr>\n",
       "      <th>train_recall</th>\n",
       "      <td>0.600332</td>\n",
       "      <td>0.023077</td>\n",
       "    </tr>\n",
       "  </tbody>\n",
       "</table>\n",
       "</div>"
      ],
      "text/plain": [
       "                     Mean  Standard Deviation\n",
       "test_accuracy    0.768663            0.025073\n",
       "train_accuracy   0.774595            0.011440\n",
       "test_precision   0.702084            0.042079\n",
       "train_precision  0.709186            0.019622\n",
       "test_recall      0.585821            0.062720\n",
       "train_recall     0.600332            0.023077"
      ]
     },
     "execution_count": 153,
     "metadata": {},
     "output_type": "execute_result"
    }
   ],
   "source": [
    "\n",
    "pd.DataFrame({\n",
    "    'Mean':cv_metrics.mean(),\n",
    "    'Standard Deviation':cv_metrics.std()\n",
    "})\n"
   ]
  },
  {
   "cell_type": "code",
   "execution_count": null,
   "metadata": {},
   "outputs": [],
   "source": []
  }
 ],
 "metadata": {
  "kernelspec": {
   "display_name": "Python 3",
   "language": "python",
   "name": "python3"
  },
  "language_info": {
   "codemirror_mode": {
    "name": "ipython",
    "version": 3
   },
   "file_extension": ".py",
   "mimetype": "text/x-python",
   "name": "python",
   "nbconvert_exporter": "python",
   "pygments_lexer": "ipython3",
   "version": "3.6.8"
  }
 },
 "nbformat": 4,
 "nbformat_minor": 2
}

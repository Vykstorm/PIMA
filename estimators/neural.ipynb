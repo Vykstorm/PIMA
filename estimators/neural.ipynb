{
 "cells": [
  {
   "cell_type": "markdown",
   "metadata": {},
   "source": [
    "This notebook shows a very simple neuronal network to solve PIMA classification problem"
   ]
  },
  {
   "cell_type": "markdown",
   "metadata": {},
   "source": [
    "## Import statements"
   ]
  },
  {
   "cell_type": "code",
   "execution_count": 1,
   "metadata": {},
   "outputs": [
    {
     "name": "stderr",
     "output_type": "stream",
     "text": [
      "Using TensorFlow backend.\n"
     ]
    }
   ],
   "source": [
    "import numpy as np\n",
    "import pandas as pd\n",
    "import matplotlib.pyplot as plt\n",
    "\n",
    "from keras.models import Sequential\n",
    "from keras.layers import Dense\n",
    "from keras.optimizers import Adam, SGD\n",
    "from keras.wrappers.scikit_learn import KerasClassifier\n",
    "from keras.utils.np_utils import to_categorical\n",
    "from keras.utils.vis_utils import model_to_dot, plot_model\n",
    "from keras.utils import to_categorical\n",
    "\n",
    "\n",
    "from sklearn.model_selection import train_test_split, cross_val_score, cross_validate\n",
    "from sklearn.model_selection import RepeatedStratifiedKFold, StratifiedKFold, KFold\n",
    "from sklearn.metrics import confusion_matrix, accuracy_score, classification_report, precision_score, recall_score\n",
    "\n",
    "from IPython.display import SVG\n",
    "\n",
    "import seaborn as sns\n",
    "\n",
    "from itertools import count\n",
    "\n",
    "%matplotlib inline\n",
    "\n",
    "# Supress warnings\n",
    "import warnings\n",
    "warnings.filterwarnings('ignore')"
   ]
  },
  {
   "cell_type": "markdown",
   "metadata": {},
   "source": [
    "## Import dataset"
   ]
  },
  {
   "cell_type": "code",
   "execution_count": 2,
   "metadata": {},
   "outputs": [],
   "source": [
    "# Read the dataset\n",
    "data = pd.read_csv('../data/diabetes-processed.csv')\n",
    "\n",
    "# Split dataset in two arrays: X for features and y for labels\n",
    "X = data.drop(columns=['Outcome'])\n",
    "y = data['Outcome']\n",
    "y_cat = to_categorical(y)"
   ]
  },
  {
   "cell_type": "markdown",
   "metadata": {},
   "source": [
    "## Build our neural network"
   ]
  },
  {
   "cell_type": "code",
   "execution_count": 3,
   "metadata": {},
   "outputs": [],
   "source": [
    "def build_model():\n",
    "    model = Sequential(name='PIMA classifier')\n",
    "\n",
    "    # Input layer \n",
    "    model.add(Dense(units=16, activation='relu', use_bias=True, input_shape=(X.shape[1],), name='Input_Layer'))\n",
    "\n",
    "    # Hidden layers\n",
    "    model.add(Dense(units=16, activation='relu', use_bias=True, name='Hidden_Layer1'))\n",
    "\n",
    "    # Output layer\n",
    "    model.add(Dense(units=2, activation='softmax', use_bias=True, name='Output_Layer'))\n",
    "\n",
    "    # Loss function\n",
    "    loss = 'categorical_crossentropy'\n",
    "\n",
    "    # Optimizer\n",
    "    optimizer = SGD(lr=0.02)\n",
    "    \n",
    "    model.compile(optimizer=optimizer, loss=loss, metrics=['accuracy'])\n",
    "    \n",
    "    return model"
   ]
  },
  {
   "cell_type": "markdown",
   "metadata": {},
   "source": [
    "### Print model summary"
   ]
  },
  {
   "cell_type": "code",
   "execution_count": 4,
   "metadata": {},
   "outputs": [
    {
     "name": "stdout",
     "output_type": "stream",
     "text": [
      "_________________________________________________________________\n",
      "Layer (type)                 Output Shape              Param #   \n",
      "=================================================================\n",
      "Input_Layer (Dense)          (None, 16)                96        \n",
      "_________________________________________________________________\n",
      "Hidden_Layer1 (Dense)        (None, 16)                272       \n",
      "_________________________________________________________________\n",
      "Output_Layer (Dense)         (None, 2)                 34        \n",
      "=================================================================\n",
      "Total params: 402\n",
      "Trainable params: 402\n",
      "Non-trainable params: 0\n",
      "_________________________________________________________________\n"
     ]
    }
   ],
   "source": [
    "model = build_model()\n",
    "model.summary()"
   ]
  },
  {
   "cell_type": "code",
   "execution_count": null,
   "metadata": {},
   "outputs": [
    {
     "data": {
      "image/svg+xml": [
       "<svg height=\"294pt\" viewBox=\"0.00 0.00 282.00 294.00\" width=\"282pt\" xmlns=\"http://www.w3.org/2000/svg\" xmlns:xlink=\"http://www.w3.org/1999/xlink\">\n",
       "<g class=\"graph\" id=\"graph0\" transform=\"scale(1 1) rotate(0) translate(4 290)\">\n",
       "<title>G</title>\n",
       "<polygon fill=\"#ffffff\" points=\"-4,4 -4,-290 278,-290 278,4 -4,4\" stroke=\"transparent\"/>\n",
       "<!-- 140119084031280 -->\n",
       "<g class=\"node\" id=\"node1\">\n",
       "<title>140119084031280</title>\n",
       "<polygon fill=\"none\" points=\"9,-166.5 9,-212.5 265,-212.5 265,-166.5 9,-166.5\" stroke=\"#000000\"/>\n",
       "<text fill=\"#000000\" font-family=\"Times,serif\" font-size=\"14.00\" text-anchor=\"middle\" x=\"71.5\" y=\"-185.8\">Input_Layer: Dense</text>\n",
       "<polyline fill=\"none\" points=\"134,-166.5 134,-212.5 \" stroke=\"#000000\"/>\n",
       "<text fill=\"#000000\" font-family=\"Times,serif\" font-size=\"14.00\" text-anchor=\"middle\" x=\"161.5\" y=\"-197.3\">input:</text>\n",
       "<polyline fill=\"none\" points=\"134,-189.5 189,-189.5 \" stroke=\"#000000\"/>\n",
       "<text fill=\"#000000\" font-family=\"Times,serif\" font-size=\"14.00\" text-anchor=\"middle\" x=\"161.5\" y=\"-174.3\">output:</text>\n",
       "<polyline fill=\"none\" points=\"189,-166.5 189,-212.5 \" stroke=\"#000000\"/>\n",
       "<text fill=\"#000000\" font-family=\"Times,serif\" font-size=\"14.00\" text-anchor=\"middle\" x=\"227\" y=\"-197.3\">(None, 5)</text>\n",
       "<polyline fill=\"none\" points=\"189,-189.5 265,-189.5 \" stroke=\"#000000\"/>\n",
       "<text fill=\"#000000\" font-family=\"Times,serif\" font-size=\"14.00\" text-anchor=\"middle\" x=\"227\" y=\"-174.3\">(None, 16)</text>\n",
       "</g>\n",
       "<!-- 140117995983144 -->\n",
       "<g class=\"node\" id=\"node2\">\n",
       "<title>140117995983144</title>\n",
       "<polygon fill=\"none\" points=\"0,-83.5 0,-129.5 274,-129.5 274,-83.5 0,-83.5\" stroke=\"#000000\"/>\n",
       "<text fill=\"#000000\" font-family=\"Times,serif\" font-size=\"14.00\" text-anchor=\"middle\" x=\"71.5\" y=\"-102.8\">Hidden_Layer1: Dense</text>\n",
       "<polyline fill=\"none\" points=\"143,-83.5 143,-129.5 \" stroke=\"#000000\"/>\n",
       "<text fill=\"#000000\" font-family=\"Times,serif\" font-size=\"14.00\" text-anchor=\"middle\" x=\"170.5\" y=\"-114.3\">input:</text>\n",
       "<polyline fill=\"none\" points=\"143,-106.5 198,-106.5 \" stroke=\"#000000\"/>\n",
       "<text fill=\"#000000\" font-family=\"Times,serif\" font-size=\"14.00\" text-anchor=\"middle\" x=\"170.5\" y=\"-91.3\">output:</text>\n",
       "<polyline fill=\"none\" points=\"198,-83.5 198,-129.5 \" stroke=\"#000000\"/>\n",
       "<text fill=\"#000000\" font-family=\"Times,serif\" font-size=\"14.00\" text-anchor=\"middle\" x=\"236\" y=\"-114.3\">(None, 16)</text>\n",
       "<polyline fill=\"none\" points=\"198,-106.5 274,-106.5 \" stroke=\"#000000\"/>\n",
       "<text fill=\"#000000\" font-family=\"Times,serif\" font-size=\"14.00\" text-anchor=\"middle\" x=\"236\" y=\"-91.3\">(None, 16)</text>\n",
       "</g>\n",
       "<!-- 140119084031280&#45;&gt;140117995983144 -->\n",
       "<g class=\"edge\" id=\"edge2\">\n",
       "<title>140119084031280-&gt;140117995983144</title>\n",
       "<path d=\"M137,-166.3799C137,-158.1745 137,-148.7679 137,-139.8786\" fill=\"none\" stroke=\"#000000\"/>\n",
       "<polygon fill=\"#000000\" points=\"140.5001,-139.784 137,-129.784 133.5001,-139.784 140.5001,-139.784\" stroke=\"#000000\"/>\n",
       "</g>\n",
       "<!-- 140117995986224 -->\n",
       "<g class=\"node\" id=\"node3\">\n",
       "<title>140117995986224</title>\n",
       "<polygon fill=\"none\" points=\"4.5,-.5 4.5,-46.5 269.5,-46.5 269.5,-.5 4.5,-.5\" stroke=\"#000000\"/>\n",
       "<text fill=\"#000000\" font-family=\"Times,serif\" font-size=\"14.00\" text-anchor=\"middle\" x=\"71.5\" y=\"-19.8\">Output_Layer: Dense</text>\n",
       "<polyline fill=\"none\" points=\"138.5,-.5 138.5,-46.5 \" stroke=\"#000000\"/>\n",
       "<text fill=\"#000000\" font-family=\"Times,serif\" font-size=\"14.00\" text-anchor=\"middle\" x=\"166\" y=\"-31.3\">input:</text>\n",
       "<polyline fill=\"none\" points=\"138.5,-23.5 193.5,-23.5 \" stroke=\"#000000\"/>\n",
       "<text fill=\"#000000\" font-family=\"Times,serif\" font-size=\"14.00\" text-anchor=\"middle\" x=\"166\" y=\"-8.3\">output:</text>\n",
       "<polyline fill=\"none\" points=\"193.5,-.5 193.5,-46.5 \" stroke=\"#000000\"/>\n",
       "<text fill=\"#000000\" font-family=\"Times,serif\" font-size=\"14.00\" text-anchor=\"middle\" x=\"231.5\" y=\"-31.3\">(None, 16)</text>\n",
       "<polyline fill=\"none\" points=\"193.5,-23.5 269.5,-23.5 \" stroke=\"#000000\"/>\n",
       "<text fill=\"#000000\" font-family=\"Times,serif\" font-size=\"14.00\" text-anchor=\"middle\" x=\"231.5\" y=\"-8.3\">(None, 2)</text>\n",
       "</g>\n",
       "<!-- 140117995983144&#45;&gt;140117995986224 -->\n",
       "<g class=\"edge\" id=\"edge3\">\n",
       "<title>140117995983144-&gt;140117995986224</title>\n",
       "<path d=\"M137,-83.3799C137,-75.1745 137,-65.7679 137,-56.8786\" fill=\"none\" stroke=\"#000000\"/>\n",
       "<polygon fill=\"#000000\" points=\"140.5001,-56.784 137,-46.784 133.5001,-56.784 140.5001,-56.784\" stroke=\"#000000\"/>\n",
       "</g>\n",
       "<!-- 140119084030832 -->\n",
       "<g class=\"node\" id=\"node4\">\n",
       "<title>140119084030832</title>\n",
       "<polygon fill=\"none\" points=\"78,-249.5 78,-285.5 196,-285.5 196,-249.5 78,-249.5\" stroke=\"#000000\"/>\n",
       "<text fill=\"#000000\" font-family=\"Times,serif\" font-size=\"14.00\" text-anchor=\"middle\" x=\"137\" y=\"-263.8\">140119084030832</text>\n",
       "</g>\n",
       "<!-- 140119084030832&#45;&gt;140119084031280 -->\n",
       "<g class=\"edge\" id=\"edge1\">\n",
       "<title>140119084030832-&gt;140119084031280</title>\n",
       "<path d=\"M137,-249.4092C137,-241.4308 137,-231.795 137,-222.606\" fill=\"none\" stroke=\"#000000\"/>\n",
       "<polygon fill=\"#000000\" points=\"140.5001,-222.5333 137,-212.5333 133.5001,-222.5334 140.5001,-222.5333\" stroke=\"#000000\"/>\n",
       "</g>\n",
       "</g>\n",
       "</svg>"
      ],
      "text/plain": [
       "<IPython.core.display.SVG object>"
      ]
     },
     "execution_count": 5,
     "metadata": {},
     "output_type": "execute_result"
    }
   ],
   "source": [
    "SVG(model_to_dot(model, show_shapes=True, show_layer_names=True).create(prog='dot', format='svg'))"
   ]
  },
  {
   "cell_type": "markdown",
   "metadata": {},
   "source": [
    "## Cross-validate the model"
   ]
  },
  {
   "cell_type": "code",
   "execution_count": null,
   "metadata": {},
   "outputs": [],
   "source": [
    "X_train, X_test, y_train, y_test = train_test_split(X, y, test_size=0.2, random_state=13)"
   ]
  },
  {
   "cell_type": "code",
   "execution_count": null,
   "metadata": {},
   "outputs": [],
   "source": [
    "model = KerasClassifier(build_fn=build_model, epochs=20, verbose=False)\n",
    "\n",
    "cv = RepeatedStratifiedKFold(4, 3, random_state=13)\n",
    "cv_results = cross_validate(model, X_train, y_train, scoring=['accuracy', 'precision', 'recall'], cv=cv, return_train_score=True);"
   ]
  },
  {
   "cell_type": "code",
   "execution_count": null,
   "metadata": {},
   "outputs": [],
   "source": [
    "cv_metrics = pd.DataFrame(data=cv_results).drop(columns=['score_time', 'fit_time'])"
   ]
  },
  {
   "cell_type": "markdown",
   "metadata": {},
   "source": [
    "### Show the results"
   ]
  },
  {
   "cell_type": "code",
   "execution_count": null,
   "metadata": {},
   "outputs": [],
   "source": [
    "plt.figure(figsize=(7,7))\n",
    "\n",
    "plt.plot(cv_metrics['test_accuracy'], color='Orange', linewidth=2)\n",
    "\n",
    "plt.plot(cv_metrics['test_recall'], color='Red', linewidth=2)\n",
    "plt.plot(cv_metrics['test_precision'], color='Blue', linewidth=2)\n",
    "\n",
    "plt.axhline(cv_metrics['test_accuracy'].mean(), color='Orange', linewidth=1, linestyle='-.')\n",
    "plt.axhline(cv_metrics['test_recall'].mean(), color='Red', linewidth=1, linestyle='-.')\n",
    "plt.axhline(cv_metrics['test_precision'].mean(), color='Blue', linewidth=1, linestyle='-.')\n",
    "\n",
    "plt.yticks(np.round(np.linspace(0.5, 0.8, 8), 2))\n",
    "plt.title('Cross validation scores on test')\n",
    "plt.xlabel('Step')\n",
    "plt.legend(['Accuracy', 'Recall', 'Precision']);"
   ]
  },
  {
   "cell_type": "code",
   "execution_count": null,
   "metadata": {},
   "outputs": [],
   "source": [
    "\n",
    "pd.DataFrame({\n",
    "    'Mean':cv_metrics.mean(),\n",
    "    'Standard Deviation':cv_metrics.std()\n",
    "})\n"
   ]
  },
  {
   "cell_type": "markdown",
   "metadata": {},
   "source": [
    "## Final prediction using test set"
   ]
  },
  {
   "cell_type": "code",
   "execution_count": null,
   "metadata": {},
   "outputs": [],
   "source": [
    "X_train, X_test, y_train, y_test = train_test_split(X, y_cat, test_size=0.2, random_state=13)\n",
    "model = build_model()\n",
    "history = model.fit(X_train, y_train, epochs=50, verbose=False, validation_split=0.1)"
   ]
  },
  {
   "cell_type": "code",
   "execution_count": null,
   "metadata": {},
   "outputs": [],
   "source": [
    "y_train_pred = np.argmax(model.predict(X_train), axis=1)\n",
    "y_test_pred = np.argmax(model.predict(X_test), axis=1)"
   ]
  },
  {
   "cell_type": "markdown",
   "metadata": {},
   "source": [
    "### Print the results"
   ]
  },
  {
   "cell_type": "code",
   "execution_count": null,
   "metadata": {},
   "outputs": [],
   "source": [
    "plt.plot(history.history['acc'])\n",
    "plt.plot(history.history['val_acc'])\n",
    "plt.xlabel('Epoch')\n",
    "plt.ylabel('Accuracy')\n",
    "plt.xticks(range(0, 50, 4));\n",
    "plt.title('Score on each iteration of the learning phase')\n",
    "plt.legend(['Accuracy', 'Validation Accuracy']);"
   ]
  },
  {
   "cell_type": "code",
   "execution_count": null,
   "metadata": {},
   "outputs": [],
   "source": [
    "print(\"Accuracy on train set: {}\".format(accuracy_score(y_train[:,1], y_train_pred).round(3)))\n",
    "print(\"Classification report on train set: \")\n",
    "print(classification_report(y_train[:,1], y_train_pred))"
   ]
  },
  {
   "cell_type": "code",
   "execution_count": null,
   "metadata": {},
   "outputs": [],
   "source": [
    "print(\"Accuracy on test set: {}\".format(accuracy_score(y_test[:,1], y_test_pred).round(3)))\n",
    "print(\"Classification report on test set: \")\n",
    "print(classification_report(y_test[:,1], y_test_pred))"
   ]
  },
  {
   "cell_type": "code",
   "execution_count": null,
   "metadata": {},
   "outputs": [],
   "source": [
    "cm_train = pd.DataFrame(confusion_matrix(y_train[:,1], y_train_pred), columns=['Predict no diabetes', 'Predict diabetes'],\n",
    "                 index=['Diabetes', 'No diabetes'])\n",
    "\n",
    "cm_test = pd.DataFrame(confusion_matrix(y_test[:,1], y_test_pred), columns=['Predict no diabetes', 'Predict diabetes'],\n",
    "                 index=['Diabetes', 'No diabetes'])\n",
    "fig, ax = plt.subplots(1, 2, figsize=(10, 5))\n",
    "plt.sca(ax[0])\n",
    "sns.heatmap(cm_train, annot=True, fmt='d')\n",
    "plt.title('Train set')\n",
    "plt.sca(ax[1])\n",
    "sns.heatmap(cm_test, annot=True, fmt='d')\n",
    "plt.title('Test set')\n",
    "\n",
    "plt.suptitle('Confusion matrix')\n",
    "plt.tight_layout()\n",
    "plt.subplots_adjust(top=0.88)"
   ]
  },
  {
   "cell_type": "code",
   "execution_count": null,
   "metadata": {},
   "outputs": [],
   "source": []
  }
 ],
 "metadata": {
  "kernelspec": {
   "display_name": "Python 3",
   "language": "python",
   "name": "python3"
  },
  "language_info": {
   "codemirror_mode": {
    "name": "ipython",
    "version": 3
   },
   "file_extension": ".py",
   "mimetype": "text/x-python",
   "name": "python",
   "nbconvert_exporter": "python",
   "pygments_lexer": "ipython3",
   "version": "3.6.8"
  }
 },
 "nbformat": 4,
 "nbformat_minor": 2
}
